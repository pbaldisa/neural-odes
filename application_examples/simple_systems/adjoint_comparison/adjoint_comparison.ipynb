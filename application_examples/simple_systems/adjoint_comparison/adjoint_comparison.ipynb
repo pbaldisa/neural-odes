{
 "cells": [
  {
   "cell_type": "code",
   "execution_count": 1,
   "outputs": [],
   "source": [
    "import time\n",
    "from no_adjoint import train_with_adjoint"
   ],
   "metadata": {
    "collapsed": false,
    "ExecuteTime": {
     "end_time": "2024-01-08T14:02:27.374671Z",
     "start_time": "2024-01-08T14:02:24.437571200Z"
    }
   },
   "id": "78f670a165d628e3"
  },
  {
   "cell_type": "code",
   "execution_count": 1,
   "outputs": [],
   "source": [],
   "metadata": {
    "collapsed": false,
    "ExecuteTime": {
     "end_time": "2024-01-08T14:02:27.379967Z",
     "start_time": "2024-01-08T14:02:27.377972600Z"
    }
   },
   "id": "eceaffa7cc817415"
  },
  {
   "cell_type": "code",
   "execution_count": 2,
   "outputs": [
    {
     "name": "stdout",
     "output_type": "stream",
     "text": [
      "Using device:  cuda:0\n",
      "Iter 0000 | Total Loss 309.502106\n",
      "Iter 0001 | Total Loss 316.247223\n",
      "Iter 0002 | Total Loss 319.992584\n"
     ]
    },
    {
     "ename": "KeyboardInterrupt",
     "evalue": "",
     "output_type": "error",
     "traceback": [
      "\u001B[1;31m---------------------------------------------------------------------------\u001B[0m",
      "\u001B[1;31mKeyboardInterrupt\u001B[0m                         Traceback (most recent call last)",
      "Cell \u001B[1;32mIn[2], line 5\u001B[0m\n\u001B[0;32m      3\u001B[0m \u001B[38;5;28;01mfor\u001B[39;00m i \u001B[38;5;129;01min\u001B[39;00m \u001B[38;5;28mrange\u001B[39m(\u001B[38;5;241m5\u001B[39m):\n\u001B[0;32m      4\u001B[0m     start_t \u001B[38;5;241m=\u001B[39m time\u001B[38;5;241m.\u001B[39mtime()\n\u001B[1;32m----> 5\u001B[0m     avg_loss \u001B[38;5;241m+\u001B[39m\u001B[38;5;241m=\u001B[39m \u001B[43mtrain_with_adjoint\u001B[49m\u001B[43m(\u001B[49m\u001B[38;5;28;43;01mTrue\u001B[39;49;00m\u001B[43m)\u001B[49m\n\u001B[0;32m      6\u001B[0m     end_t \u001B[38;5;241m=\u001B[39m time\u001B[38;5;241m.\u001B[39mtime()\n\u001B[0;32m      7\u001B[0m     avg_time \u001B[38;5;241m+\u001B[39m\u001B[38;5;241m=\u001B[39m end_t \u001B[38;5;241m-\u001B[39m start_t\n",
      "File \u001B[1;32mD:\\Documents1\\Universitat\\TFG\\neural-odes\\application_examples\\simple_systems\\adjoint_comparison\\no_adjoint.py:106\u001B[0m, in \u001B[0;36mtrain_with_adjoint\u001B[1;34m(adjoint)\u001B[0m\n\u001B[0;32m    104\u001B[0m \u001B[38;5;28;01mif\u001B[39;00m itr \u001B[38;5;241m%\u001B[39m args[\u001B[38;5;124m'\u001B[39m\u001B[38;5;124mtest_freq\u001B[39m\u001B[38;5;124m'\u001B[39m] \u001B[38;5;241m==\u001B[39m \u001B[38;5;241m0\u001B[39m:\n\u001B[0;32m    105\u001B[0m     \u001B[38;5;28;01mwith\u001B[39;00m torch\u001B[38;5;241m.\u001B[39mno_grad():\n\u001B[1;32m--> 106\u001B[0m         pred_y \u001B[38;5;241m=\u001B[39m \u001B[43modeint_adjoint\u001B[49m\u001B[43m(\u001B[49m\u001B[43mmodel\u001B[49m\u001B[43m,\u001B[49m\u001B[43m \u001B[49m\u001B[43mtrue_y0\u001B[49m\u001B[43m,\u001B[49m\u001B[43m \u001B[49m\u001B[43mt\u001B[49m\u001B[43m,\u001B[49m\u001B[43m \u001B[49m\u001B[43mmethod\u001B[49m\u001B[38;5;241;43m=\u001B[39;49m\u001B[43mmethod\u001B[49m\u001B[43m)\u001B[49m\n\u001B[0;32m    107\u001B[0m         loss \u001B[38;5;241m=\u001B[39m loss_fn(pred_y, true_y)\n\u001B[0;32m    108\u001B[0m         \u001B[38;5;28;01mif\u001B[39;00m verbose:\n",
      "File \u001B[1;32mD:\\Documents1\\Universitat\\TFG\\neural-odes\\venv\\Lib\\site-packages\\torchdiffeq\\_impl\\adjoint.py:198\u001B[0m, in \u001B[0;36modeint_adjoint\u001B[1;34m(func, y0, t, rtol, atol, method, options, event_fn, adjoint_rtol, adjoint_atol, adjoint_method, adjoint_options, adjoint_params)\u001B[0m\n\u001B[0;32m    195\u001B[0m state_norm \u001B[38;5;241m=\u001B[39m options[\u001B[38;5;124m\"\u001B[39m\u001B[38;5;124mnorm\u001B[39m\u001B[38;5;124m\"\u001B[39m]\n\u001B[0;32m    196\u001B[0m handle_adjoint_norm_(adjoint_options, shapes, state_norm)\n\u001B[1;32m--> 198\u001B[0m ans \u001B[38;5;241m=\u001B[39m \u001B[43mOdeintAdjointMethod\u001B[49m\u001B[38;5;241;43m.\u001B[39;49m\u001B[43mapply\u001B[49m\u001B[43m(\u001B[49m\u001B[43mshapes\u001B[49m\u001B[43m,\u001B[49m\u001B[43m \u001B[49m\u001B[43mfunc\u001B[49m\u001B[43m,\u001B[49m\u001B[43m \u001B[49m\u001B[43my0\u001B[49m\u001B[43m,\u001B[49m\u001B[43m \u001B[49m\u001B[43mt\u001B[49m\u001B[43m,\u001B[49m\u001B[43m \u001B[49m\u001B[43mrtol\u001B[49m\u001B[43m,\u001B[49m\u001B[43m \u001B[49m\u001B[43matol\u001B[49m\u001B[43m,\u001B[49m\u001B[43m \u001B[49m\u001B[43mmethod\u001B[49m\u001B[43m,\u001B[49m\u001B[43m \u001B[49m\u001B[43moptions\u001B[49m\u001B[43m,\u001B[49m\u001B[43m \u001B[49m\u001B[43mevent_fn\u001B[49m\u001B[43m,\u001B[49m\u001B[43m \u001B[49m\u001B[43madjoint_rtol\u001B[49m\u001B[43m,\u001B[49m\u001B[43m \u001B[49m\u001B[43madjoint_atol\u001B[49m\u001B[43m,\u001B[49m\n\u001B[0;32m    199\u001B[0m \u001B[43m                                \u001B[49m\u001B[43madjoint_method\u001B[49m\u001B[43m,\u001B[49m\u001B[43m \u001B[49m\u001B[43madjoint_options\u001B[49m\u001B[43m,\u001B[49m\u001B[43m \u001B[49m\u001B[43mt\u001B[49m\u001B[38;5;241;43m.\u001B[39;49m\u001B[43mrequires_grad\u001B[49m\u001B[43m,\u001B[49m\u001B[43m \u001B[49m\u001B[38;5;241;43m*\u001B[39;49m\u001B[43madjoint_params\u001B[49m\u001B[43m)\u001B[49m\n\u001B[0;32m    201\u001B[0m \u001B[38;5;28;01mif\u001B[39;00m event_fn \u001B[38;5;129;01mis\u001B[39;00m \u001B[38;5;28;01mNone\u001B[39;00m:\n\u001B[0;32m    202\u001B[0m     solution \u001B[38;5;241m=\u001B[39m ans\n",
      "File \u001B[1;32mD:\\Documents1\\Universitat\\TFG\\neural-odes\\venv\\Lib\\site-packages\\torch\\autograd\\function.py:539\u001B[0m, in \u001B[0;36mFunction.apply\u001B[1;34m(cls, *args, **kwargs)\u001B[0m\n\u001B[0;32m    536\u001B[0m \u001B[38;5;28;01mif\u001B[39;00m \u001B[38;5;129;01mnot\u001B[39;00m torch\u001B[38;5;241m.\u001B[39m_C\u001B[38;5;241m.\u001B[39m_are_functorch_transforms_active():\n\u001B[0;32m    537\u001B[0m     \u001B[38;5;66;03m# See NOTE: [functorch vjp and autograd interaction]\u001B[39;00m\n\u001B[0;32m    538\u001B[0m     args \u001B[38;5;241m=\u001B[39m _functorch\u001B[38;5;241m.\u001B[39mutils\u001B[38;5;241m.\u001B[39munwrap_dead_wrappers(args)\n\u001B[1;32m--> 539\u001B[0m     \u001B[38;5;28;01mreturn\u001B[39;00m \u001B[38;5;28;43msuper\u001B[39;49m\u001B[43m(\u001B[49m\u001B[43m)\u001B[49m\u001B[38;5;241;43m.\u001B[39;49m\u001B[43mapply\u001B[49m\u001B[43m(\u001B[49m\u001B[38;5;241;43m*\u001B[39;49m\u001B[43margs\u001B[49m\u001B[43m,\u001B[49m\u001B[43m \u001B[49m\u001B[38;5;241;43m*\u001B[39;49m\u001B[38;5;241;43m*\u001B[39;49m\u001B[43mkwargs\u001B[49m\u001B[43m)\u001B[49m  \u001B[38;5;66;03m# type: ignore[misc]\u001B[39;00m\n\u001B[0;32m    541\u001B[0m \u001B[38;5;28;01mif\u001B[39;00m \u001B[38;5;28mcls\u001B[39m\u001B[38;5;241m.\u001B[39msetup_context \u001B[38;5;241m==\u001B[39m _SingleLevelFunction\u001B[38;5;241m.\u001B[39msetup_context:\n\u001B[0;32m    542\u001B[0m     \u001B[38;5;28;01mraise\u001B[39;00m \u001B[38;5;167;01mRuntimeError\u001B[39;00m(\n\u001B[0;32m    543\u001B[0m         \u001B[38;5;124m\"\u001B[39m\u001B[38;5;124mIn order to use an autograd.Function with functorch transforms \u001B[39m\u001B[38;5;124m\"\u001B[39m\n\u001B[0;32m    544\u001B[0m         \u001B[38;5;124m\"\u001B[39m\u001B[38;5;124m(vmap, grad, jvp, jacrev, ...), it must override the setup_context \u001B[39m\u001B[38;5;124m\"\u001B[39m\n\u001B[0;32m    545\u001B[0m         \u001B[38;5;124m\"\u001B[39m\u001B[38;5;124mstaticmethod. For more details, please see \u001B[39m\u001B[38;5;124m\"\u001B[39m\n\u001B[0;32m    546\u001B[0m         \u001B[38;5;124m\"\u001B[39m\u001B[38;5;124mhttps://pytorch.org/docs/master/notes/extending.func.html\u001B[39m\u001B[38;5;124m\"\u001B[39m\n\u001B[0;32m    547\u001B[0m     )\n",
      "File \u001B[1;32mD:\\Documents1\\Universitat\\TFG\\neural-odes\\venv\\Lib\\site-packages\\torchdiffeq\\_impl\\adjoint.py:25\u001B[0m, in \u001B[0;36mOdeintAdjointMethod.forward\u001B[1;34m(ctx, shapes, func, y0, t, rtol, atol, method, options, event_fn, adjoint_rtol, adjoint_atol, adjoint_method, adjoint_options, t_requires_grad, *adjoint_params)\u001B[0m\n\u001B[0;32m     22\u001B[0m ctx\u001B[38;5;241m.\u001B[39mevent_mode \u001B[38;5;241m=\u001B[39m event_fn \u001B[38;5;129;01mis\u001B[39;00m \u001B[38;5;129;01mnot\u001B[39;00m \u001B[38;5;28;01mNone\u001B[39;00m\n\u001B[0;32m     24\u001B[0m \u001B[38;5;28;01mwith\u001B[39;00m torch\u001B[38;5;241m.\u001B[39mno_grad():\n\u001B[1;32m---> 25\u001B[0m     ans \u001B[38;5;241m=\u001B[39m \u001B[43modeint\u001B[49m\u001B[43m(\u001B[49m\u001B[43mfunc\u001B[49m\u001B[43m,\u001B[49m\u001B[43m \u001B[49m\u001B[43my0\u001B[49m\u001B[43m,\u001B[49m\u001B[43m \u001B[49m\u001B[43mt\u001B[49m\u001B[43m,\u001B[49m\u001B[43m \u001B[49m\u001B[43mrtol\u001B[49m\u001B[38;5;241;43m=\u001B[39;49m\u001B[43mrtol\u001B[49m\u001B[43m,\u001B[49m\u001B[43m \u001B[49m\u001B[43matol\u001B[49m\u001B[38;5;241;43m=\u001B[39;49m\u001B[43matol\u001B[49m\u001B[43m,\u001B[49m\u001B[43m \u001B[49m\u001B[43mmethod\u001B[49m\u001B[38;5;241;43m=\u001B[39;49m\u001B[43mmethod\u001B[49m\u001B[43m,\u001B[49m\u001B[43m \u001B[49m\u001B[43moptions\u001B[49m\u001B[38;5;241;43m=\u001B[39;49m\u001B[43moptions\u001B[49m\u001B[43m,\u001B[49m\u001B[43m \u001B[49m\u001B[43mevent_fn\u001B[49m\u001B[38;5;241;43m=\u001B[39;49m\u001B[43mevent_fn\u001B[49m\u001B[43m)\u001B[49m\n\u001B[0;32m     27\u001B[0m     \u001B[38;5;28;01mif\u001B[39;00m event_fn \u001B[38;5;129;01mis\u001B[39;00m \u001B[38;5;28;01mNone\u001B[39;00m:\n\u001B[0;32m     28\u001B[0m         y \u001B[38;5;241m=\u001B[39m ans\n",
      "File \u001B[1;32mD:\\Documents1\\Universitat\\TFG\\neural-odes\\venv\\Lib\\site-packages\\torchdiffeq\\_impl\\odeint.py:77\u001B[0m, in \u001B[0;36modeint\u001B[1;34m(func, y0, t, rtol, atol, method, options, event_fn)\u001B[0m\n\u001B[0;32m     74\u001B[0m solver \u001B[38;5;241m=\u001B[39m SOLVERS[method](func\u001B[38;5;241m=\u001B[39mfunc, y0\u001B[38;5;241m=\u001B[39my0, rtol\u001B[38;5;241m=\u001B[39mrtol, atol\u001B[38;5;241m=\u001B[39matol, \u001B[38;5;241m*\u001B[39m\u001B[38;5;241m*\u001B[39moptions)\n\u001B[0;32m     76\u001B[0m \u001B[38;5;28;01mif\u001B[39;00m event_fn \u001B[38;5;129;01mis\u001B[39;00m \u001B[38;5;28;01mNone\u001B[39;00m:\n\u001B[1;32m---> 77\u001B[0m     solution \u001B[38;5;241m=\u001B[39m \u001B[43msolver\u001B[49m\u001B[38;5;241;43m.\u001B[39;49m\u001B[43mintegrate\u001B[49m\u001B[43m(\u001B[49m\u001B[43mt\u001B[49m\u001B[43m)\u001B[49m\n\u001B[0;32m     78\u001B[0m \u001B[38;5;28;01melse\u001B[39;00m:\n\u001B[0;32m     79\u001B[0m     event_t, solution \u001B[38;5;241m=\u001B[39m solver\u001B[38;5;241m.\u001B[39mintegrate_until_event(t[\u001B[38;5;241m0\u001B[39m], event_fn)\n",
      "File \u001B[1;32mD:\\Documents1\\Universitat\\TFG\\neural-odes\\venv\\Lib\\site-packages\\torchdiffeq\\_impl\\solvers.py:30\u001B[0m, in \u001B[0;36mAdaptiveStepsizeODESolver.integrate\u001B[1;34m(self, t)\u001B[0m\n\u001B[0;32m     28\u001B[0m \u001B[38;5;28mself\u001B[39m\u001B[38;5;241m.\u001B[39m_before_integrate(t)\n\u001B[0;32m     29\u001B[0m \u001B[38;5;28;01mfor\u001B[39;00m i \u001B[38;5;129;01min\u001B[39;00m \u001B[38;5;28mrange\u001B[39m(\u001B[38;5;241m1\u001B[39m, \u001B[38;5;28mlen\u001B[39m(t)):\n\u001B[1;32m---> 30\u001B[0m     solution[i] \u001B[38;5;241m=\u001B[39m \u001B[38;5;28;43mself\u001B[39;49m\u001B[38;5;241;43m.\u001B[39;49m\u001B[43m_advance\u001B[49m\u001B[43m(\u001B[49m\u001B[43mt\u001B[49m\u001B[43m[\u001B[49m\u001B[43mi\u001B[49m\u001B[43m]\u001B[49m\u001B[43m)\u001B[49m\n\u001B[0;32m     31\u001B[0m \u001B[38;5;28;01mreturn\u001B[39;00m solution\n",
      "File \u001B[1;32mD:\\Documents1\\Universitat\\TFG\\neural-odes\\venv\\Lib\\site-packages\\torchdiffeq\\_impl\\rk_common.py:196\u001B[0m, in \u001B[0;36mRKAdaptiveStepsizeODESolver._advance\u001B[1;34m(self, next_t)\u001B[0m\n\u001B[0;32m    194\u001B[0m     \u001B[38;5;28mself\u001B[39m\u001B[38;5;241m.\u001B[39mrk_state \u001B[38;5;241m=\u001B[39m \u001B[38;5;28mself\u001B[39m\u001B[38;5;241m.\u001B[39m_adaptive_step(\u001B[38;5;28mself\u001B[39m\u001B[38;5;241m.\u001B[39mrk_state)\n\u001B[0;32m    195\u001B[0m     n_steps \u001B[38;5;241m+\u001B[39m\u001B[38;5;241m=\u001B[39m \u001B[38;5;241m1\u001B[39m\n\u001B[1;32m--> 196\u001B[0m \u001B[38;5;28;01mreturn\u001B[39;00m \u001B[43m_interp_evaluate\u001B[49m\u001B[43m(\u001B[49m\u001B[38;5;28;43mself\u001B[39;49m\u001B[38;5;241;43m.\u001B[39;49m\u001B[43mrk_state\u001B[49m\u001B[38;5;241;43m.\u001B[39;49m\u001B[43minterp_coeff\u001B[49m\u001B[43m,\u001B[49m\u001B[43m \u001B[49m\u001B[38;5;28;43mself\u001B[39;49m\u001B[38;5;241;43m.\u001B[39;49m\u001B[43mrk_state\u001B[49m\u001B[38;5;241;43m.\u001B[39;49m\u001B[43mt0\u001B[49m\u001B[43m,\u001B[49m\u001B[43m \u001B[49m\u001B[38;5;28;43mself\u001B[39;49m\u001B[38;5;241;43m.\u001B[39;49m\u001B[43mrk_state\u001B[49m\u001B[38;5;241;43m.\u001B[39;49m\u001B[43mt1\u001B[49m\u001B[43m,\u001B[49m\u001B[43m \u001B[49m\u001B[43mnext_t\u001B[49m\u001B[43m)\u001B[49m\n",
      "File \u001B[1;32mD:\\Documents1\\Universitat\\TFG\\neural-odes\\venv\\Lib\\site-packages\\torchdiffeq\\_impl\\interp.py:25\u001B[0m, in \u001B[0;36m_interp_evaluate\u001B[1;34m(coefficients, t0, t1, t)\u001B[0m\n\u001B[0;32m     21\u001B[0m     e \u001B[38;5;241m=\u001B[39m y0\n\u001B[0;32m     22\u001B[0m     \u001B[38;5;28;01mreturn\u001B[39;00m [e, d, c, b, a]\n\u001B[1;32m---> 25\u001B[0m \u001B[38;5;28;01mdef\u001B[39;00m \u001B[38;5;21m_interp_evaluate\u001B[39m(coefficients, t0, t1, t):\n\u001B[0;32m     26\u001B[0m \u001B[38;5;250m    \u001B[39m\u001B[38;5;124;03m\"\"\"Evaluate polynomial interpolation at the given time point.\u001B[39;00m\n\u001B[0;32m     27\u001B[0m \n\u001B[0;32m     28\u001B[0m \u001B[38;5;124;03m    Args:\u001B[39;00m\n\u001B[1;32m   (...)\u001B[0m\n\u001B[0;32m     35\u001B[0m \u001B[38;5;124;03m        Polynomial interpolation of the coefficients at time `t`.\u001B[39;00m\n\u001B[0;32m     36\u001B[0m \u001B[38;5;124;03m    \"\"\"\u001B[39;00m\n\u001B[0;32m     38\u001B[0m     \u001B[38;5;28;01massert\u001B[39;00m (t0 \u001B[38;5;241m<\u001B[39m\u001B[38;5;241m=\u001B[39m t) \u001B[38;5;241m&\u001B[39m (t \u001B[38;5;241m<\u001B[39m\u001B[38;5;241m=\u001B[39m t1), \u001B[38;5;124m'\u001B[39m\u001B[38;5;124minvalid interpolation, fails `t0 <= t <= t1`: \u001B[39m\u001B[38;5;132;01m{}\u001B[39;00m\u001B[38;5;124m, \u001B[39m\u001B[38;5;132;01m{}\u001B[39;00m\u001B[38;5;124m, \u001B[39m\u001B[38;5;132;01m{}\u001B[39;00m\u001B[38;5;124m'\u001B[39m\u001B[38;5;241m.\u001B[39mformat(t0, t, t1)\n",
      "\u001B[1;31mKeyboardInterrupt\u001B[0m: "
     ]
    }
   ],
   "source": [
    "avg_time = 0\n",
    "avg_loss = 0\n",
    "for i in range(5):\n",
    "    start_t = time.time()\n",
    "    avg_loss += train_with_adjoint(True)\n",
    "    end_t = time.time()\n",
    "    avg_time += end_t - start_t\n",
    "    \n",
    "print(\"Mean time: {}, mean loss: {}\".format(avg_time/5, avg_loss/5))"
   ],
   "metadata": {
    "collapsed": false,
    "ExecuteTime": {
     "end_time": "2024-01-08T14:02:48.451150900Z",
     "start_time": "2024-01-08T14:02:27.379967Z"
    }
   },
   "id": "9f8f56cfd05c486b"
  },
  {
   "cell_type": "code",
   "execution_count": null,
   "outputs": [],
   "source": [
    "avg_time = 0\n",
    "avg_loss = 0\n",
    "for i in range(5):\n",
    "    start_t = time.time()\n",
    "    avg_loss += train_with_adjoint(True)\n",
    "    end_t = time.time()\n",
    "    avg_time += end_t - start_t\n",
    "    \n",
    "print(\"Mean time: {}, mean loss: {}\".format(avg_time/5, avg_loss/5))"
   ],
   "metadata": {
    "collapsed": false,
    "ExecuteTime": {
     "start_time": "2024-01-08T14:02:48.453145600Z"
    }
   },
   "id": "54bcb8a1ab4415f1"
  },
  {
   "cell_type": "code",
   "execution_count": null,
   "outputs": [],
   "source": [],
   "metadata": {
    "collapsed": false,
    "ExecuteTime": {
     "start_time": "2024-01-08T14:02:48.455140300Z"
    }
   },
   "id": "799c8ee5d6bdb7cc"
  }
 ],
 "metadata": {
  "kernelspec": {
   "display_name": "Python 3",
   "language": "python",
   "name": "python3"
  },
  "language_info": {
   "codemirror_mode": {
    "name": "ipython",
    "version": 2
   },
   "file_extension": ".py",
   "mimetype": "text/x-python",
   "name": "python",
   "nbconvert_exporter": "python",
   "pygments_lexer": "ipython2",
   "version": "2.7.6"
  }
 },
 "nbformat": 4,
 "nbformat_minor": 5
}
