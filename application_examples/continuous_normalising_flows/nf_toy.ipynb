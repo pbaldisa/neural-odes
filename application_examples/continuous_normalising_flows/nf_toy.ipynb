{
 "cells": [
  {
   "cell_type": "code",
   "execution_count": 1,
   "id": "initial_id",
   "metadata": {
    "collapsed": true,
    "ExecuteTime": {
     "end_time": "2023-12-10T20:07:50.741352Z",
     "start_time": "2023-12-10T20:07:49.456610Z"
    }
   },
   "outputs": [],
   "source": [
    "import torch\n",
    "import torch.nn as nn\n",
    "import torch.optim as optim\n",
    "import random"
   ]
  },
  {
   "cell_type": "markdown",
   "source": [
    "# Normalising flows: comparison to CNF\n",
    "In this notebook we compare the performance of CNF to a normalising flow with a similar architecture. As with the CNF example, we will learn a two-modal distribution with two concentric circles, and a uniform distribution of a triangle.\n",
    "## Hyperparameters"
   ],
   "metadata": {
    "collapsed": false
   },
   "id": "5dd50e8643decd53"
  },
  {
   "cell_type": "code",
   "execution_count": 2,
   "outputs": [],
   "source": [
    "args = {\n",
    "    'niters': 5000,\n",
    "    'lr': 1e-3,\n",
    "    'num_samples': 512,\n",
    "    \n",
    "}"
   ],
   "metadata": {
    "collapsed": false,
    "ExecuteTime": {
     "end_time": "2023-12-10T20:07:50.753002Z",
     "start_time": "2023-12-10T20:07:50.741616Z"
    }
   },
   "id": "c67eca3c7e89b96c"
  },
  {
   "cell_type": "code",
   "execution_count": 2,
   "outputs": [],
   "source": [],
   "metadata": {
    "collapsed": false,
    "ExecuteTime": {
     "end_time": "2023-12-10T20:07:50.753172Z",
     "start_time": "2023-12-10T20:07:50.744129Z"
    }
   },
   "id": "1513d977eefb9d5f"
  },
  {
   "cell_type": "markdown",
   "source": [
    "## The Model\n",
    "We will use a normalising flow with the following architecture, so it is similar to that of the CNF:\n",
    "- 10 layers\n",
    "- Hypernet with 2 hidden layers to generate the parameters of the affine transformation\n",
    "- Affine transformation\n",
    "\n",
    "The hypernet is conditioned on the context, which is the same as the CNF.\n",
    "    "
   ],
   "metadata": {
    "collapsed": false
   },
   "id": "b2a63adf02a8111a"
  },
  {
   "cell_type": "code",
   "execution_count": null,
   "outputs": [],
   "source": [
    "class HyperNetwork(nn.Module):\n",
    "    \"\"\"Hyper-network allowing the flow to be conditioned on an external context.\"\"\"\n",
    "    \n",
    "    def __init__(self, context_dim, hidden_dim, out_dim):\n",
    "        super().__init__()\n",
    "        \n",
    "        \n",
    "        self.net = nn.Sequential(\n",
    "            nn.Linear(context_dim, hidden_dim),\n",
    "            nn.ReLU(),\n",
    "            nn.Linear(hidden_dim, hidden_dim),\n",
    "            nn.ReLU(),\n",
    "            nn.Linear(hidden_dim, out_dim),\n",
    "        )"
   ],
   "metadata": {
    "collapsed": false
   },
   "id": "1f6ee03902ef4747"
  },
  {
   "cell_type": "markdown",
   "source": [
    "## Triangle distribution"
   ],
   "metadata": {
    "collapsed": false
   },
   "id": "f86b25b931fc3c02"
  },
  {
   "cell_type": "code",
   "execution_count": 4,
   "outputs": [],
   "source": [
    "def point_on_triangle(pt1, pt2, pt3):\n",
    "    \"\"\"\n",
    "    Random point on the triangle with vertices pt1, pt2 and pt3.\n",
    "    \"\"\"\n",
    "    x, y = random.random(), random.random()\n",
    "    q = abs(x - y)\n",
    "    s, t, u = q, 0.5 * (x + y - q), 1 - 0.5 * (q + x + y)\n",
    "    return (\n",
    "        s * pt1[0] + t * pt2[0] + u * pt3[0],\n",
    "        s * pt1[1] + t * pt2[1] + u * pt3[1],\n",
    "    )\n",
    "\n",
    "\n",
    "def get_batch(num_samples):\n",
    "    \"\"\"\n",
    "    Generate random points uniformly distributed inside a custom triangle.\n",
    "    \"\"\"\n",
    "    pt1 = [-0.2, 0.0]\n",
    "    pt2 = [0.6, 0.0]\n",
    "    pt3 = [0.0, 0.7]\n",
    "\n",
    "    # Generate random points inside the triangle\n",
    "    points = [point_on_triangle(pt1, pt2, pt3) for _ in range(num_samples)]\n",
    "\n",
    "    x = torch.tensor(points).type(torch.float32)\n",
    "    logp_diff_t1 = torch.zeros(num_samples, 1).type(torch.float32)\n",
    "\n",
    "    return x, logp_diff_t1"
   ],
   "metadata": {
    "collapsed": false,
    "ExecuteTime": {
     "end_time": "2023-12-10T20:07:50.754662Z",
     "start_time": "2023-12-10T20:07:50.751459Z"
    }
   },
   "id": "b51d25d370a27f55"
  },
  {
   "cell_type": "code",
   "execution_count": 4,
   "outputs": [],
   "source": [],
   "metadata": {
    "collapsed": false,
    "ExecuteTime": {
     "end_time": "2023-12-10T20:07:50.755447Z",
     "start_time": "2023-12-10T20:07:50.753770Z"
    }
   },
   "id": "dede078c32bc46d6"
  }
 ],
 "metadata": {
  "kernelspec": {
   "display_name": "Python 3",
   "language": "python",
   "name": "python3"
  },
  "language_info": {
   "codemirror_mode": {
    "name": "ipython",
    "version": 2
   },
   "file_extension": ".py",
   "mimetype": "text/x-python",
   "name": "python",
   "nbconvert_exporter": "python",
   "pygments_lexer": "ipython2",
   "version": "2.7.6"
  }
 },
 "nbformat": 4,
 "nbformat_minor": 5
}
