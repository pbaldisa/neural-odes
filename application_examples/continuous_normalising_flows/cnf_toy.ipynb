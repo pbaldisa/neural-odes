{
 "cells": [
  {
   "cell_type": "code",
   "execution_count": 33,
   "id": "initial_id",
   "metadata": {
    "collapsed": true,
    "ExecuteTime": {
     "end_time": "2023-11-30T09:43:02.686041Z",
     "start_time": "2023-11-30T09:43:02.679805Z"
    }
   },
   "outputs": [],
   "source": [
    "import argparse\n",
    "import glob\n",
    "from PIL import Image\n",
    "import numpy as np\n",
    "import matplotlib\n",
    "import matplotlib.pyplot as plt\n",
    "from sklearn.datasets import make_circles\n",
    "import torch\n",
    "import torch.nn as nn\n",
    "import torch.optim as optim\n",
    "import random\n",
    "import os\n",
    "from glob import glob\n",
    "from IPython.display import display, HTML\n",
    "\n",
    "import application_examples.helpers.training as training"
   ]
  },
  {
   "cell_type": "code",
   "execution_count": 17,
   "outputs": [],
   "source": [
    "# Change to use continuous adjoint method\n",
    "# from torchdiffeq import odeint_adjoint as odeint\n",
    "from torchdiffeq import odeint"
   ],
   "metadata": {
    "collapsed": false,
    "ExecuteTime": {
     "end_time": "2023-11-30T09:11:12.238143Z",
     "start_time": "2023-11-30T09:11:12.231203Z"
    }
   },
   "id": "c3849a87c267e657"
  },
  {
   "cell_type": "code",
   "execution_count": 3,
   "outputs": [],
   "source": [
    "device = torch.device('cuda:' + str(0) if torch.cuda.is_available() else 'cpu')"
   ],
   "metadata": {
    "collapsed": false,
    "ExecuteTime": {
     "end_time": "2023-11-30T08:45:29.585909Z",
     "start_time": "2023-11-30T08:45:29.585183Z"
    }
   },
   "id": "990f1eb29eb5f8e"
  },
  {
   "cell_type": "markdown",
   "source": [
    "# Continuous normalising flows: two toy examples\n",
    "\n",
    "In this notebook we will explore the use of normalising flows to approximate a distribution. We will use two toy examples: a two-modal distribution with two concentric circles, and a uniform distribution on a triangle.\n",
    "\n",
    "## Hyperparameters"
   ],
   "metadata": {
    "collapsed": false
   },
   "id": "5e37d95b9af123ba"
  },
  {
   "cell_type": "code",
   "execution_count": 14,
   "outputs": [],
   "source": [
    "args = {\n",
    "    'niters': 5000,\n",
    "    'lr': 1e-3,\n",
    "    'num_samples': 512,\n",
    "    'width': 64,\n",
    "    'hidden_dim': 32,\n",
    "    'results_dir': 'results'\n",
    "}"
   ],
   "metadata": {
    "collapsed": false,
    "ExecuteTime": {
     "end_time": "2023-11-30T09:10:37.515939Z",
     "start_time": "2023-11-30T09:10:37.510113Z"
    }
   },
   "id": "dbcd252c4c5dbaeb"
  },
  {
   "cell_type": "markdown",
   "source": [
    "## The Model\n",
    "\n",
    "Since the examples we'll address are easy, a simple model will suffice. We want the learnt vector field to depend on time. To accomplish this, our model (`CNF`) will call a hypernetwork (`Hypernet`) at each time step. The hypernetwork will take the time as input and output the parameters that will allow `CNF` to compute the vector field."
   ],
   "metadata": {
    "collapsed": false
   },
   "id": "d6f663d5c7227b08"
  },
  {
   "cell_type": "code",
   "execution_count": 5,
   "outputs": [],
   "source": [
    "class HyperNetwork(nn.Module):\n",
    "    \"\"\"Hyper-network allowing f(z(t), t) to change with time.\n",
    "\n",
    "    Taken from: https://github.com/rtqichen/torchdiffeq/blob/master/examples/cnf.py\n",
    "    \"\"\"\n",
    "\n",
    "    def __init__(self, in_out_dim, hidden_dim, width):\n",
    "        super().__init__()\n",
    "\n",
    "        blocksize = width * in_out_dim\n",
    "\n",
    "        self.fc1 = nn.Linear(1, hidden_dim)\n",
    "        self.fc2 = nn.Linear(hidden_dim, hidden_dim)\n",
    "        self.fc3 = nn.Linear(hidden_dim, 3 * blocksize + width)\n",
    "\n",
    "        self.in_out_dim = in_out_dim\n",
    "        self.hidden_dim = hidden_dim\n",
    "        self.width = width\n",
    "        self.blocksize = blocksize\n",
    "\n",
    "    def forward(self, t):\n",
    "        # predict params\n",
    "        params = t.reshape(1, 1)\n",
    "        params = torch.tanh(self.fc1(params))\n",
    "        params = torch.tanh(self.fc2(params))\n",
    "        params = self.fc3(params)\n",
    "\n",
    "        # restructure\n",
    "        params = params.reshape(-1)\n",
    "        W = params[:self.blocksize].reshape(self.width, self.in_out_dim, 1)\n",
    "\n",
    "        U = params[self.blocksize:2 * self.blocksize].reshape(self.width, 1, self.in_out_dim)\n",
    "\n",
    "        G = params[2 * self.blocksize:3 * self.blocksize].reshape(self.width, 1, self.in_out_dim)\n",
    "        U = U * torch.sigmoid(G)\n",
    "\n",
    "        B = params[3 * self.blocksize:].reshape(self.width, 1, 1)\n",
    "        return [W, B, U]"
   ],
   "metadata": {
    "collapsed": false,
    "ExecuteTime": {
     "end_time": "2023-11-30T08:45:29.590074Z",
     "start_time": "2023-11-30T08:45:29.586686Z"
    }
   },
   "id": "cd3fc9c586fe5388"
  },
  {
   "cell_type": "code",
   "execution_count": 6,
   "outputs": [],
   "source": [
    "def trace_df_dz(f, z):\n",
    "    \"\"\"Calculates the trace of the Jacobian df/dz.\n",
    "    \n",
    "    Taken from: https://github.com/rtqichen/ffjord/blob/master/lib/layers/odefunc.py#L13\n",
    "    \"\"\"\n",
    "    sum_diag = 0.\n",
    "    for i in range(z.shape[1]):\n",
    "        sum_diag += torch.autograd.grad(f[:, i].sum(), z, create_graph=True)[0].contiguous()[:, i].contiguous()\n",
    "\n",
    "    return sum_diag.contiguous()\n",
    "\n",
    "class CNF(nn.Module):\n",
    "    \"\"\"Continuous normalising flow model.\n",
    "    \n",
    "    Taken from: https://github.com/rtqichen/torchdiffeq/blob/master/examples/cnf.py\n",
    "    \"\"\"\n",
    "\n",
    "    def __init__(self, in_out_dim, hidden_dim, width):\n",
    "        super().__init__()\n",
    "        self.in_out_dim = in_out_dim\n",
    "        self.hidden_dim = hidden_dim\n",
    "        self.width = width\n",
    "        self.hyper_net = HyperNetwork(in_out_dim, hidden_dim, width)\n",
    "\n",
    "    def forward(self, t, states):\n",
    "        z = states[0]\n",
    "        logp_z = states[1]\n",
    "\n",
    "        batchsize = z.shape[0]\n",
    "\n",
    "        with torch.set_grad_enabled(True):\n",
    "            z.requires_grad_(True)\n",
    "\n",
    "            W, B, U = self.hyper_net(t) # Parameters from the hypernetwork\n",
    "            Z = torch.unsqueeze(z, 0).repeat(self.width, 1, 1)\n",
    "            h = torch.tanh(torch.matmul(Z, W) + B)\n",
    "            dz_dt = torch.matmul(h, U).mean(0)  # Basically, f_{theta}(t, z(t))\n",
    "\n",
    "            dlogp_z_dt = -trace_df_dz(dz_dt, z).view(batchsize, 1)  # -tr(df/dz) -> Instantaneous change of variables theorem\n",
    "\n",
    "        return (dz_dt, dlogp_z_dt)"
   ],
   "metadata": {
    "collapsed": false,
    "ExecuteTime": {
     "end_time": "2023-11-30T08:45:29.594911Z",
     "start_time": "2023-11-30T08:45:29.590698Z"
    }
   },
   "id": "a556643679ffd2f4"
  },
  {
   "cell_type": "markdown",
   "source": [
    "A little explanation is in order. CNF is based on a continuous transformation of points z(0) ~ Normal(0, I) through the flow of an ODE defined by a function $f_{\\theta}(t, z(t))$, which is a neural network (Given by a part of `CNF` in our case). In order to learn this neural network, we maximise the likelihood function for the distribution at time $t=t_1$. This requires that we know the density of that distribution. We can calculate it using the instantaneous change of variables theorem:\n",
    "$$\n",
    "\\frac{d}{dt}(\\log p(t, z(t))) = -tr(\\frac{df_{\\theta}}{dz})\n",
    "$$\n",
    "\n",
    "The `CNF` class above implements this mechanics: it is the vector field of the system of differential equations that arises. That is, the output of `CNF` is \n",
    "$$\n",
    "CNF ( t, (z(t), \\log p(t, z(t)) ) ) =\n",
    "\\left( \\begin{array}{c} f_{\\theta}(t, z(t)) \\\\ -tr\\left(\\frac{df_{\\theta}}{dz}(t, z(t))\\right) \\end{array} \\right)\n",
    "$$\n",
    "This way, we can calculate $z(t)$ and $\\log p(t, z(t))$ at the same time, while also being able to solve it backwards to train."
   ],
   "metadata": {
    "collapsed": false
   },
   "id": "ed54bff06581c022"
  },
  {
   "cell_type": "markdown",
   "source": [
    "## Triangle distribution"
   ],
   "metadata": {
    "collapsed": false
   },
   "id": "d019991d6e355dd1"
  },
  {
   "cell_type": "code",
   "execution_count": 7,
   "outputs": [],
   "source": [
    "def point_on_triangle2(pt1, pt2, pt3):\n",
    "    \"\"\"\n",
    "    Random point on the triangle with vertices pt1, pt2 and pt3.\n",
    "    \"\"\"\n",
    "    x, y = random.random(), random.random()\n",
    "    q = abs(x - y)\n",
    "    s, t, u = q, 0.5 * (x + y - q), 1 - 0.5 * (q + x + y)\n",
    "    return (\n",
    "        s * pt1[0] + t * pt2[0] + u * pt3[0],\n",
    "        s * pt1[1] + t * pt2[1] + u * pt3[1],\n",
    "    )\n",
    "\n",
    "\n",
    "def get_batch(num_samples):\n",
    "    \"\"\"\n",
    "    Generate random points uniformly distributed inside a custom triangle.\n",
    "    \"\"\"\n",
    "    pt1 = [-0.2, 0.0]\n",
    "    pt2 = [0.6, 0.0]\n",
    "    pt3 = [0.0, 0.7]\n",
    "\n",
    "    # Generate random points inside the triangle\n",
    "    points = [point_on_triangle2(pt1, pt2, pt3) for _ in range(num_samples)]\n",
    "\n",
    "    x = torch.tensor(points).type(torch.float32)\n",
    "    logp_diff_t1 = torch.zeros(num_samples, 1).type(torch.float32)\n",
    "\n",
    "    return x, logp_diff_t1"
   ],
   "metadata": {
    "collapsed": false,
    "ExecuteTime": {
     "end_time": "2023-11-30T08:45:29.595578Z",
     "start_time": "2023-11-30T08:45:29.593652Z"
    }
   },
   "id": "979c60e33262bd77"
  },
  {
   "cell_type": "markdown",
   "source": [
    "### Train the model"
   ],
   "metadata": {
    "collapsed": false
   },
   "id": "b8410d6e9702ca5d"
  },
  {
   "cell_type": "code",
   "execution_count": 9,
   "outputs": [],
   "source": [
    "t0 = 0  # Initial time\n",
    "t1 = 10 # Final time\n",
    "\n",
    "# Definition of the model, optimizer and initial distribution\n",
    "func = CNF(in_out_dim=2, hidden_dim=args['hidden_dim'], width=args['width']).to(device)\n",
    "optimizer = optim.Adam(func.parameters(), lr=args['lr'])\n",
    "# A normal distribution with mean 0 and covariance matrix 0.1 * I\n",
    "p_z0 = torch.distributions.MultivariateNormal(\n",
    "    loc=torch.tensor([0.0, 0.0]).to(device),\n",
    "    covariance_matrix=torch.tensor([[0.1, 0.0], [0.0, 0.1]]).to(device)\n",
    ")"
   ],
   "metadata": {
    "collapsed": false,
    "ExecuteTime": {
     "end_time": "2023-11-30T08:46:07.283921Z",
     "start_time": "2023-11-30T08:46:07.050282Z"
    }
   },
   "id": "fb1b5fb43ba6af26"
  },
  {
   "cell_type": "code",
   "execution_count": 11,
   "outputs": [
    {
     "name": "stdout",
     "output_type": "stream",
     "text": [
      "Iter: 100, running avg loss: -0.4573\n",
      "Iter: 200, running avg loss: -0.8454\n",
      "Iter: 300, running avg loss: -1.0440\n",
      "Iter: 400, running avg loss: -1.1373\n",
      "Iter: 500, running avg loss: -1.1766\n",
      "Iter: 600, running avg loss: -1.1910\n",
      "Iter: 700, running avg loss: -1.2043\n",
      "Iter: 800, running avg loss: -1.2110\n",
      "Iter: 900, running avg loss: -1.2138\n",
      "Iter: 1000, running avg loss: -1.2160\n",
      "Iter: 1100, running avg loss: -1.2193\n",
      "Iter: 1200, running avg loss: -1.2202\n",
      "Iter: 1300, running avg loss: -1.2248\n",
      "Iter: 1400, running avg loss: -1.2269\n",
      "Iter: 1500, running avg loss: -1.2252\n",
      "Iter: 1600, running avg loss: -1.2248\n",
      "Iter: 1700, running avg loss: -1.2311\n",
      "Iter: 1800, running avg loss: -1.2306\n",
      "Iter: 1900, running avg loss: -1.2257\n",
      "Iter: 2000, running avg loss: -1.2284\n",
      "Iter: 2100, running avg loss: -1.2307\n",
      "Iter: 2200, running avg loss: -1.2349\n",
      "Iter: 2300, running avg loss: -1.2295\n",
      "Iter: 2400, running avg loss: -1.2349\n",
      "Iter: 2500, running avg loss: -1.2317\n",
      "Iter: 2600, running avg loss: -1.2278\n",
      "Iter: 2700, running avg loss: -1.2387\n",
      "Iter: 2800, running avg loss: -1.2396\n",
      "Iter: 2900, running avg loss: -1.2319\n",
      "Iter: 3000, running avg loss: -1.2316\n",
      "Iter: 3100, running avg loss: -1.2375\n",
      "Iter: 3200, running avg loss: -1.2408\n",
      "Iter: 3300, running avg loss: -1.2397\n",
      "Iter: 3400, running avg loss: -1.2381\n",
      "Iter: 3500, running avg loss: -1.2369\n",
      "Iter: 3600, running avg loss: -1.2370\n",
      "Iter: 3700, running avg loss: -1.2407\n",
      "Iter: 3800, running avg loss: -1.2445\n",
      "Iter: 3900, running avg loss: -1.2386\n",
      "Iter: 4000, running avg loss: -1.2413\n",
      "Iter: 4100, running avg loss: -1.2399\n",
      "Iter: 4200, running avg loss: -1.2424\n",
      "Iter: 4300, running avg loss: -1.2393\n",
      "Iter: 4400, running avg loss: -1.2425\n",
      "Iter: 4500, running avg loss: -1.2377\n",
      "Iter: 4600, running avg loss: -1.2352\n",
      "Iter: 4700, running avg loss: -1.2412\n",
      "Iter: 4800, running avg loss: -1.2369\n",
      "Iter: 4900, running avg loss: -1.2420\n",
      "Iter: 5000, running avg loss: -1.2398\n"
     ]
    }
   ],
   "source": [
    "loss_meter = training.RunningAverageMeter()\n",
    "# Training loop\n",
    "for itr in range(1, args['niters'] + 1):\n",
    "    optimizer.zero_grad()\n",
    "\n",
    "    x, logp_diff_t1 = get_batch(args['num_samples'])  \n",
    "\n",
    "    z_t, logp_diff_t = odeint(\n",
    "        func,\n",
    "        (x, logp_diff_t1),\n",
    "        torch.tensor([t1, t0]).type(torch.float32).to(device),  \n",
    "        atol=1e-5,\n",
    "        rtol=1e-5,\n",
    "        method='dopri5',\n",
    "    )\n",
    "\n",
    "    z_t0, logp_diff_t0 = z_t[-1], logp_diff_t[-1] \n",
    "\n",
    "    logp_x = p_z0.log_prob(z_t0).to(device) - logp_diff_t0.view(-1)\n",
    "    loss = -logp_x.mean(0) \n",
    "    \n",
    "\n",
    "    loss.backward()\n",
    "    optimizer.step()\n",
    "\n",
    "    loss_meter.update(loss.item())\n",
    "    if itr % 100 == 0:\n",
    "        print('Iter: {}, running avg loss: {:.4f}'.format(itr, loss_meter.avg))"
   ],
   "metadata": {
    "collapsed": false,
    "ExecuteTime": {
     "end_time": "2023-11-30T09:02:09.280428Z",
     "start_time": "2023-11-30T08:46:34.770424Z"
    }
   },
   "id": "228f361cdf5e756a"
  },
  {
   "cell_type": "markdown",
   "source": [
    "Once again, some further explanation is in order. In the training loop, `odeint` is used to solve backwards the system of differential equations. For the state variable $z(t)$ this is straightforward: given an empiric sample, we want to find the initial condition that will lead to that value at time $t_1$, as we will need it to compute the loss. For the log-probability, we don't have a proper differential equation, simply an integral (since the log p term is not actually on the right-hand side of the equality). Furthermore, we have used 0 as initial condition (from the `get_batch()` function). \n",
    "\n",
    "The original equation is as follows:\n",
    "$$\n",
    "\\log p(t_0, z(t_0)) = \\log p(t_1, z(t_1)) - \\int_{t_1}^{t_0} tr\\left(\\frac{df_{\\theta}}{dz}(t, z(t))\\right) dt\n",
    "$$\n",
    "\n",
    "But we are solving (allowing for a slight abuse of notation where we'll write $x$ instead of `logp_diff_t0`):\n",
    "$$\n",
    "x = - \\int_{t_1}^{t_0} tr\\left(\\frac{df_{\\theta}}{dz}(t, z(t))\\right) dt\n",
    "$$\n",
    "\n",
    "It is then clear that $x = \\log p(t_0, z(t_0)) - \\log p(t_1, z(t_1))$, hence the name `logp_diff_t1` for the variable that holds the solution to such integral. \n",
    "\n",
    "Then, the line `logp_x = p_z0.log_prob(z_t0).to(device) - logp_diff_t0.view(-1)` is simply the calculation of $\\log p(t_0, z(t_0)) - \\log p(t_0, z(t_0)) + \\log p(t_1, z(t_1)) = \\log p(t_1, z(t_1))$, the log-probability of our learnt distribution.\n",
    "\n",
    "Finally, the loss is simply the negative log-likelihood, as we want to maximise the likelihood of our distribution:\n",
    "$$\n",
    "-\\frac{1}{N} \\sum_{i=1}^N \\log p(t_1, z(t_1)_i)\n",
    "$$\n",
    "for all samples $z(t_1)_i$ in the batch. This is computed as the mean along the batch dimension: `-logp_x.mean(0)`."
   ],
   "metadata": {
    "collapsed": false
   },
   "id": "9adae10b60a35783"
  },
  {
   "cell_type": "markdown",
   "source": [
    "### Visualise the results"
   ],
   "metadata": {
    "collapsed": false
   },
   "id": "49a0e028f790debe"
  },
  {
   "cell_type": "code",
   "execution_count": 38,
   "outputs": [
    {
     "data": {
      "text/plain": "<Figure size 800x500 with 1 Axes>",
      "image/png": "[encoded data removed]"
     },
     "metadata": {},
     "output_type": "display_data"
    },
    {
     "data": {
      "text/plain": "<IPython.core.display.HTML object>",
      "text/html": "<img src=\"results/cnf-viz.gif\" width=\"1000\">"
     },
     "metadata": {},
     "output_type": "display_data"
    }
   ],
   "source": [
    "def show_gif(images, duration=250, gif_width = 1000):\n",
    "    img, *imgs = [Image.open(img) for img in images]\n",
    "    gif_path = os.path.join(args['results_dir'], \"cnf-viz.gif\")\n",
    "    img.save(fp=gif_path, format='GIF', append_images=imgs, save_all=True, duration=duration, loop=0)\n",
    "    display(HTML(f'<img src=\"{gif_path}\" width=\"{gif_width}\">'))\n",
    "\n",
    "\n",
    "# Define your func and get_batch functions here\n",
    "\n",
    "viz_samples = 30000\n",
    "viz_timesteps = 41\n",
    "target_sample, _ = get_batch(viz_samples)\n",
    "\n",
    "if not os.path.exists(args['results_dir']):\n",
    "    os.makedirs(args['results_dir'])\n",
    "\n",
    "with torch.no_grad():\n",
    "    # Generate evolution of samples\n",
    "    z_t0 = p_z0.sample([viz_samples]).to(device)\n",
    "    logp_diff_t0 = torch.zeros(viz_samples, 1).type(torch.float32).to(device)\n",
    "\n",
    "    z_t_samples, _ = odeint(\n",
    "        func,\n",
    "        (z_t0, logp_diff_t0),\n",
    "        torch.tensor(np.linspace(t0, t1, viz_timesteps)).to(device),\n",
    "        atol=1e-5,\n",
    "        rtol=1e-5,\n",
    "        method='dopri5'\n",
    "    )\n",
    "\n",
    "    # Generate evolution of density\n",
    "    x = np.linspace(-1.5, 1.5, 100)\n",
    "    y = np.linspace(-1.5, 1.5, 100)\n",
    "    points = np.vstack(np.meshgrid(x, y)).reshape([2, -1]).T\n",
    "\n",
    "    z_t1 = torch.tensor(points).type(torch.float32).to(device)\n",
    "    logp_diff_t1 = torch.zeros(z_t1.shape[0], 1).type(torch.float32).to(device)\n",
    "\n",
    "    z_t_density, logp_diff_t = odeint(\n",
    "        func,\n",
    "        (z_t1, logp_diff_t1),\n",
    "        torch.tensor(np.linspace(t1, t0, viz_timesteps)).to(device),\n",
    "        atol=1e-5,\n",
    "        rtol=1e-5,\n",
    "        method='dopri5',\n",
    "    )\n",
    "\n",
    "    # Create plots for each timestep\n",
    "    for (t, z_sample, z_density, logp_diff) in zip(\n",
    "            np.linspace(t0, t1, viz_timesteps),\n",
    "            z_t_samples, z_t_density, logp_diff_t\n",
    "    ):\n",
    "        fig, axes = plt.subplots(1, 3, figsize=(12, 10), dpi=200)\n",
    "        plt.suptitle(f'{t:.2f}s')\n",
    "        #plt.subplots_adjust(top=0.85)\n",
    "        plt.tight_layout()\n",
    "\n",
    "        axes[0].set_title('Target')\n",
    "        axes[0].hist2d(*target_sample.detach().cpu().numpy().T, bins=300, density=True, range=[[-1.5, 1.5], [-1.5, 1.5]])\n",
    "\n",
    "        axes[1].set_title('Samples')\n",
    "        axes[1].hist2d(*z_sample.detach().cpu().numpy().T, bins=300, density=True, range=[[-1.5, 1.5], [-1.5, 1.5]])\n",
    "\n",
    "        logp = p_z0.log_prob(z_density) - logp_diff.view(-1)\n",
    "        axes[2].set_title('Log Probability')\n",
    "        axes[2].tricontourf(*z_t1.detach().cpu().numpy().T, np.exp(logp.detach().cpu().numpy()), 200)\n",
    "\n",
    "        \n",
    "        plt.savefig(os.path.join(args['results_dir'], f\"cnf-viz-{int(t * 1000):05d}.jpg\"),\n",
    "                    pad_inches=0.2, bbox_inches='tight')\n",
    "        plt.close()\n",
    "\n",
    "    # Display learning curve\n",
    "    plt.figure(figsize=(8, 5))\n",
    "    plt.plot(loss_meter.history, label='Training Loss')\n",
    "    plt.xlabel('Timestep')\n",
    "    plt.ylabel('Loss')\n",
    "    plt.title('Learning Curve')\n",
    "    plt.legend()\n",
    "    plt.show()\n",
    "\n",
    "    # Display GIF\n",
    "    gif_images = sorted(glob(os.path.join(args['results_dir'], f\"cnf-viz-*.jpg\")))\n",
    "    show_gif(gif_images)\n",
    "\n"
   ],
   "metadata": {
    "collapsed": false,
    "ExecuteTime": {
     "end_time": "2023-11-30T09:49:28.918711Z",
     "start_time": "2023-11-30T09:48:58.920674Z"
    }
   },
   "id": "5bb7d61cb106271"
  },
  {
   "cell_type": "code",
   "execution_count": null,
   "outputs": [],
   "source": [],
   "metadata": {
    "collapsed": false
   },
   "id": "59f21483dbd5cf47"
  }
 ],
 "metadata": {
  "kernelspec": {
   "display_name": "Python 3",
   "language": "python",
   "name": "python3"
  },
  "language_info": {
   "codemirror_mode": {
    "name": "ipython",
    "version": 2
   },
   "file_extension": ".py",
   "mimetype": "text/x-python",
   "name": "python",
   "nbconvert_exporter": "python",
   "pygments_lexer": "ipython2",
   "version": "2.7.6"
  }
 },
 "nbformat": 4,
 "nbformat_minor": 5
}
