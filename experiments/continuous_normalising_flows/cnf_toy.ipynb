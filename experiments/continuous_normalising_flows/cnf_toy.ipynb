{
 "cells": [
  {
   "cell_type": "code",
   "execution_count": 1,
   "id": "initial_id",
   "metadata": {
    "collapsed": true,
    "ExecuteTime": {
     "end_time": "2024-01-12T10:41:20.451637Z",
     "start_time": "2024-01-12T10:41:18.851182Z"
    }
   },
   "outputs": [],
   "source": [
    "from sklearn.datasets import make_circles\n",
    "import torch\n",
    "import torch.nn as nn\n",
    "import torch.optim as optim\n",
    "import random\n",
    "import os\n",
    "\n",
    "import experiments.helpers.training as training\n",
    "import experiments.helpers.plotting_cnf as plotting_cnf"
   ]
  },
  {
   "cell_type": "code",
   "execution_count": 2,
   "outputs": [],
   "source": [
    "# Change to use continuous adjoint method\n",
    "# from torchdiffeq import odeint_adjoint as odeint\n",
    "from torchdiffeq import odeint"
   ],
   "metadata": {
    "collapsed": false,
    "ExecuteTime": {
     "end_time": "2024-01-12T10:41:20.459551Z",
     "start_time": "2024-01-12T10:41:20.453824Z"
    }
   },
   "id": "c3849a87c267e657"
  },
  {
   "cell_type": "code",
   "execution_count": 3,
   "outputs": [],
   "source": [
    "device = torch.device('cuda:' + str(0) if torch.cuda.is_available() else 'cpu')"
   ],
   "metadata": {
    "collapsed": false,
    "ExecuteTime": {
     "end_time": "2024-01-12T10:41:20.463559Z",
     "start_time": "2024-01-12T10:41:20.460083Z"
    }
   },
   "id": "990f1eb29eb5f8e"
  },
  {
   "cell_type": "markdown",
   "source": [
    "# Continuous normalising flows: two toy examples\n",
    "\n",
    "In this notebook we will explore the use of normalising flows to approximate a distribution. We will use two toy examples: a two-modal distribution with two concentric circles, and a uniform distribution on a triangle.\n",
    "\n",
    "## Hyperparameters"
   ],
   "metadata": {
    "collapsed": false
   },
   "id": "5e37d95b9af123ba"
  },
  {
   "cell_type": "code",
   "execution_count": 4,
   "outputs": [],
   "source": [
    "args = {\n",
    "    'niters': 5000,\n",
    "    'lr': 1e-3,\n",
    "    'num_samples': 512,\n",
    "    'width': 64,\n",
    "    'hidden_dim': 32,\n",
    "    'results_dir': 'results'\n",
    "}"
   ],
   "metadata": {
    "collapsed": false,
    "ExecuteTime": {
     "end_time": "2024-01-12T10:41:20.463835Z",
     "start_time": "2024-01-12T10:41:20.462366Z"
    }
   },
   "id": "dbcd252c4c5dbaeb"
  },
  {
   "cell_type": "markdown",
   "source": [
    "## The Model\n",
    "\n",
    "Since the examples we'll address are easy, a simple model will suffice. We want the learnt vector field to depend on time. To accomplish this, our model (`CNF`) will call a hypernetwork (`Hypernet`) at each time step. The hypernetwork will take the time as input and output the parameters that will allow `CNF` to compute the vector field."
   ],
   "metadata": {
    "collapsed": false
   },
   "id": "d6f663d5c7227b08"
  },
  {
   "cell_type": "code",
   "execution_count": 5,
   "outputs": [],
   "source": [
    "class HyperNetwork(nn.Module):\n",
    "    \"\"\"Hyper-network allowing f(z(t), t) to change with time.\n",
    "\n",
    "    Taken from: https://github.com/rtqichen/torchdiffeq/blob/master/examples/cnf.py\n",
    "    \"\"\"\n",
    "\n",
    "    def __init__(self, in_out_dim, hidden_dim, width):\n",
    "        super().__init__()\n",
    "\n",
    "        blocksize = width * in_out_dim\n",
    "\n",
    "        self.fc1 = nn.Linear(1, hidden_dim)\n",
    "        self.fc2 = nn.Linear(hidden_dim, hidden_dim)\n",
    "        self.fc3 = nn.Linear(hidden_dim, 3 * blocksize + width)\n",
    "\n",
    "        self.in_out_dim = in_out_dim\n",
    "        self.hidden_dim = hidden_dim\n",
    "        self.width = width\n",
    "        self.blocksize = blocksize\n",
    "\n",
    "    def forward(self, t):\n",
    "        # predict params\n",
    "        params = t.reshape(1, 1)\n",
    "        params = torch.tanh(self.fc1(params))\n",
    "        params = torch.tanh(self.fc2(params))\n",
    "        params = self.fc3(params)\n",
    "\n",
    "        # restructure\n",
    "        params = params.reshape(-1)\n",
    "        W = params[:self.blocksize].reshape(self.width, self.in_out_dim, 1)\n",
    "\n",
    "        U = params[self.blocksize:2 * self.blocksize].reshape(self.width, 1, self.in_out_dim)\n",
    "\n",
    "        G = params[2 * self.blocksize:3 * self.blocksize].reshape(self.width, 1, self.in_out_dim)\n",
    "        U = U * torch.sigmoid(G)\n",
    "\n",
    "        B = params[3 * self.blocksize:].reshape(self.width, 1, 1)\n",
    "        return [W, B, U]"
   ],
   "metadata": {
    "collapsed": false,
    "ExecuteTime": {
     "end_time": "2024-01-12T10:41:20.468828Z",
     "start_time": "2024-01-12T10:41:20.467629Z"
    }
   },
   "id": "cd3fc9c586fe5388"
  },
  {
   "cell_type": "code",
   "execution_count": 6,
   "outputs": [],
   "source": [
    "def trace_df_dz(f, z):\n",
    "    \"\"\"Calculates the trace of the Jacobian df/dz.\n",
    "    \n",
    "    Taken from: https://github.com/rtqichen/ffjord/blob/master/lib/layers/odefunc.py#L13\n",
    "    \"\"\"\n",
    "    sum_diag = 0.\n",
    "    for i in range(z.shape[1]):\n",
    "        sum_diag += torch.autograd.grad(f[:, i].sum(), z, create_graph=True)[0].contiguous()[:, i].contiguous()\n",
    "\n",
    "    return sum_diag.contiguous()\n",
    "\n",
    "class CNF(nn.Module):\n",
    "    \"\"\"Continuous normalising flow model.\n",
    "    \n",
    "    Taken from: https://github.com/rtqichen/torchdiffeq/blob/master/examples/cnf.py\n",
    "    \"\"\"\n",
    "\n",
    "    def __init__(self, in_out_dim, hidden_dim, width):\n",
    "        super().__init__()\n",
    "        self.in_out_dim = in_out_dim\n",
    "        self.hidden_dim = hidden_dim\n",
    "        self.width = width\n",
    "        self.hyper_net = HyperNetwork(in_out_dim, hidden_dim, width)\n",
    "\n",
    "    def forward(self, t, states):\n",
    "        z = states[0]\n",
    "        logp_z = states[1]\n",
    "\n",
    "        batchsize = z.shape[0]\n",
    "\n",
    "        with torch.set_grad_enabled(True):\n",
    "            z.requires_grad_(True)\n",
    "\n",
    "            W, B, U = self.hyper_net(t) # Parameters from the hypernetwork\n",
    "            Z = torch.unsqueeze(z, 0).repeat(self.width, 1, 1)\n",
    "            h = torch.tanh(torch.matmul(Z, W) + B)\n",
    "            dz_dt = torch.matmul(h, U).mean(0)  # Basically, f_{theta}(t, z(t))\n",
    "\n",
    "            dlogp_z_dt = -trace_df_dz(dz_dt, z).view(batchsize, 1)  # -tr(df/dz) -> Instantaneous change of variables theorem\n",
    "\n",
    "        return (dz_dt, dlogp_z_dt)"
   ],
   "metadata": {
    "collapsed": false,
    "ExecuteTime": {
     "end_time": "2024-01-12T10:41:20.472514Z",
     "start_time": "2024-01-12T10:41:20.471075Z"
    }
   },
   "id": "a556643679ffd2f4"
  },
  {
   "cell_type": "markdown",
   "source": [
    "A brief explanation is in order. CNF is based on a continuous transformation of points z(0) ~ Normal(0, I) through the flow of an ODE defined by a function $f_{\\theta}(t, z(t))$, which is a neural network (Given by a part of `CNF` in our case). In order to learn this neural network, we maximise the likelihood function for the distribution at time $t=t_1$. This requires that we know the density of that distribution. We can calculate it using the instantaneous change of variables theorem:\n",
    "$$\n",
    "\\frac{d}{dt}(\\log p(t, z(t))) = -tr(\\frac{df_{\\theta}}{dz})\n",
    "$$\n",
    "\n",
    "The `CNF` class above implements this mechanics: it is the vector field of the system of differential equations that arises. That is, the output of `CNF` is \n",
    "$$\n",
    "CNF ( t, (z(t), \\log p(t, z(t)) ) ) =\n",
    "\\left( \\begin{array}{c} f_{\\theta}(t, z(t)) \\\\ -tr\\left(\\frac{df_{\\theta}}{dz}(t, z(t))\\right) \\end{array} \\right)\n",
    "$$\n",
    "This way, we can calculate $z(t)$ and $\\log p(t, z(t))$ at the same time, while also being able to solve it backwards to train."
   ],
   "metadata": {
    "collapsed": false
   },
   "id": "ed54bff06581c022"
  },
  {
   "cell_type": "markdown",
   "source": [
    "## Triangle distribution"
   ],
   "metadata": {
    "collapsed": false
   },
   "id": "d019991d6e355dd1"
  },
  {
   "cell_type": "code",
   "execution_count": 7,
   "outputs": [],
   "source": [
    "def point_on_triangle2(pt1, pt2, pt3):\n",
    "    \"\"\"\n",
    "    Random point on the triangle with vertices pt1, pt2 and pt3.\n",
    "    \"\"\"\n",
    "    x, y = random.random(), random.random()\n",
    "    q = abs(x - y)\n",
    "    s, t, u = q, 0.5 * (x + y - q), 1 - 0.5 * (q + x + y)\n",
    "    return (\n",
    "        s * pt1[0] + t * pt2[0] + u * pt3[0],\n",
    "        s * pt1[1] + t * pt2[1] + u * pt3[1],\n",
    "    )\n",
    "\n",
    "\n",
    "def get_batch(num_samples):\n",
    "    \"\"\"\n",
    "    Generate random points uniformly distributed inside a custom triangle.\n",
    "    \"\"\"\n",
    "    pt1 = [-0.2, 0.0]\n",
    "    pt2 = [0.6, 0.0]\n",
    "    pt3 = [0.0, 0.7]\n",
    "\n",
    "    # Generate random points inside the triangle\n",
    "    points = [point_on_triangle2(pt1, pt2, pt3) for _ in range(num_samples)]\n",
    "\n",
    "    x = torch.tensor(points).type(torch.float32)\n",
    "    logp_diff_t1 = torch.zeros(num_samples, 1).type(torch.float32)\n",
    "\n",
    "    return x, logp_diff_t1"
   ],
   "metadata": {
    "collapsed": false,
    "ExecuteTime": {
     "end_time": "2024-01-12T10:41:20.481811Z",
     "start_time": "2024-01-12T10:41:20.474574Z"
    }
   },
   "id": "979c60e33262bd77"
  },
  {
   "cell_type": "markdown",
   "source": [
    "### Define the model"
   ],
   "metadata": {
    "collapsed": false
   },
   "id": "b8410d6e9702ca5d"
  },
  {
   "cell_type": "code",
   "execution_count": 8,
   "outputs": [
    {
     "name": "stdout",
     "output_type": "stream",
     "text": [
      "Number of trainable parameters: 15904\n"
     ]
    }
   ],
   "source": [
    "t0 = 0  # Initial time\n",
    "t1 = 10 # Final time\n",
    "\n",
    "# Definition of the model, optimizer and initial distribution\n",
    "func = CNF(in_out_dim=2, hidden_dim=args['hidden_dim'], width=args['width']).to(device)\n",
    "optimizer = optim.Adam(func.parameters(), lr=args['lr'])\n",
    "# A normal distribution with mean 0 and covariance matrix 0.1 * I\n",
    "p_z0 = torch.distributions.MultivariateNormal(\n",
    "    loc=torch.tensor([0.0, 0.0]).to(device),\n",
    "    covariance_matrix=torch.tensor([[0.1, 0.0], [0.0, 0.1]]).to(device)\n",
    ")\n",
    "print(\"Number of trainable parameters: %d\" % sum(p.numel() for p in func.parameters() if p.requires_grad))"
   ],
   "metadata": {
    "collapsed": false,
    "ExecuteTime": {
     "end_time": "2024-01-12T10:41:20.619571Z",
     "start_time": "2024-01-12T10:41:20.477897Z"
    }
   },
   "id": "fb1b5fb43ba6af26"
  },
  {
   "cell_type": "markdown",
   "source": [
    "### Train the model"
   ],
   "metadata": {
    "collapsed": false
   },
   "id": "e8723b51a5280c7e"
  },
  {
   "cell_type": "code",
   "execution_count": 9,
   "outputs": [
    {
     "name": "stdout",
     "output_type": "stream",
     "text": [
      "Number of parameters: 15904\n",
      "Iter: 100, running avg loss: -0.4195\n",
      "Iter: 200, running avg loss: -0.8147\n",
      "Iter: 300, running avg loss: -1.0269\n",
      "Iter: 400, running avg loss: -1.1217\n",
      "Iter: 500, running avg loss: -1.1696\n",
      "Iter: 600, running avg loss: -1.1915\n",
      "Iter: 700, running avg loss: -1.2065\n",
      "Iter: 800, running avg loss: -1.2143\n",
      "Iter: 900, running avg loss: -1.2145\n",
      "Iter: 1000, running avg loss: -1.2194\n",
      "Iter: 1100, running avg loss: -1.2154\n",
      "Iter: 1200, running avg loss: -1.2192\n",
      "Iter: 1300, running avg loss: -1.2173\n",
      "Iter: 1400, running avg loss: -1.2246\n",
      "Iter: 1500, running avg loss: -1.2274\n",
      "Iter: 1600, running avg loss: -1.2297\n",
      "Iter: 1700, running avg loss: -1.2322\n",
      "Iter: 1800, running avg loss: -1.2306\n",
      "Iter: 1900, running avg loss: -1.2309\n",
      "Iter: 2000, running avg loss: -1.2338\n",
      "Iter: 2100, running avg loss: -1.2337\n",
      "Iter: 2200, running avg loss: -1.2333\n",
      "Iter: 2300, running avg loss: -1.2323\n",
      "Iter: 2400, running avg loss: -1.2393\n",
      "Iter: 2500, running avg loss: -1.2392\n",
      "Iter: 2600, running avg loss: -1.2400\n",
      "Iter: 2700, running avg loss: -1.2393\n",
      "Iter: 2800, running avg loss: -1.2387\n",
      "Iter: 2900, running avg loss: -1.2397\n",
      "Iter: 3000, running avg loss: -1.2401\n",
      "Iter: 3100, running avg loss: -1.2400\n",
      "Iter: 3200, running avg loss: -1.2427\n",
      "Iter: 3300, running avg loss: -1.2415\n",
      "Iter: 3400, running avg loss: -1.2414\n",
      "Iter: 3500, running avg loss: -1.2387\n",
      "Iter: 3600, running avg loss: -1.2422\n",
      "Iter: 3700, running avg loss: -1.2434\n",
      "Iter: 3800, running avg loss: -1.2448\n",
      "Iter: 3900, running avg loss: -1.2428\n",
      "Iter: 4000, running avg loss: -1.2409\n",
      "Iter: 4100, running avg loss: -1.2427\n",
      "Iter: 4200, running avg loss: -1.2421\n",
      "Iter: 4300, running avg loss: -1.2363\n",
      "Iter: 4400, running avg loss: -1.2416\n",
      "Iter: 4500, running avg loss: -1.2450\n",
      "Iter: 4600, running avg loss: -1.2378\n",
      "Iter: 4700, running avg loss: -1.2433\n",
      "Iter: 4800, running avg loss: -1.2431\n",
      "Iter: 4900, running avg loss: -1.2428\n",
      "Iter: 5000, running avg loss: -1.2433\n"
     ]
    }
   ],
   "source": [
    "loss_meter = training.RunningAverageMeter()\n",
    "\n",
    "print(\"Number of parameters: %d\" % sum(p.numel() for p in func.parameters() if p.requires_grad))\n",
    "# Training loop\n",
    "for itr in range(1, args['niters'] + 1):\n",
    "    optimizer.zero_grad()\n",
    "\n",
    "    x, logp_diff_t1 = get_batch(args['num_samples'])  \n",
    "\n",
    "    z_t, logp_diff_t = odeint(\n",
    "        func,\n",
    "        (x.to(device), logp_diff_t1.to(device)),\n",
    "        torch.tensor([t1, t0]).type(torch.float32).to(device),  \n",
    "        atol=1e-5,\n",
    "        rtol=1e-5,\n",
    "        method='dopri5',\n",
    "    )\n",
    "\n",
    "    z_t0, logp_diff_t0 = z_t[-1], logp_diff_t[-1] \n",
    "\n",
    "    logp_x = p_z0.log_prob(z_t0).to(device) - logp_diff_t0.view(-1)\n",
    "    loss = -logp_x.mean(0) \n",
    "    \n",
    "\n",
    "    loss.backward()\n",
    "    optimizer.step()\n",
    "\n",
    "    loss_meter.update(loss.item())\n",
    "    if itr % 100 == 0:\n",
    "        print('Iter: {}, running avg loss: {:.4f}'.format(itr, loss_meter.avg))"
   ],
   "metadata": {
    "collapsed": false,
    "ExecuteTime": {
     "end_time": "2024-01-12T10:55:20.362264Z",
     "start_time": "2024-01-12T10:41:20.621919Z"
    }
   },
   "id": "228f361cdf5e756a"
  },
  {
   "cell_type": "markdown",
   "source": [],
   "metadata": {
    "collapsed": false
   },
   "id": "878fcf2a6155f6a3"
  },
  {
   "cell_type": "markdown",
   "source": [
    "Once again, some further explanation is needed. In the training loop, `odeint` is used to solve backwards the system of differential equations. For the state variable $z(t)$ this is straightforward: given an empiric sample, we want to find the initial condition that will lead to that value at time $t_1$, as we will need it to compute the loss. For the log-probability, we don't have a proper differential equation, simply an integral (since the log p term is not actually on the right-hand side of the equality). Furthermore, we have used 0 as initial condition (from the `get_batch()` function). \n",
    "\n",
    "The original equation is as follows:\n",
    "$$\n",
    "\\log p(t_0, z(t_0)) = \\log p(t_1, z(t_1)) - \\int_{t_1}^{t_0} tr\\left(\\frac{df_{\\theta}}{dz}(t, z(t))\\right) dt\n",
    "$$\n",
    "\n",
    "But we are solving (allowing for a slight abuse of notation where we'll write $x$ instead of `logp_diff_t0`):\n",
    "$$\n",
    "x = - \\int_{t_1}^{t_0} tr\\left(\\frac{df_{\\theta}}{dz}(t, z(t))\\right) dt\n",
    "$$\n",
    "\n",
    "It is then clear that $x = \\log p(t_0, z(t_0)) - \\log p(t_1, z(t_1))$, hence the name `logp_diff_t1` for the variable that holds the solution to such integral. \n",
    "\n",
    "Then, the line `logp_x = p_z0.log_prob(z_t0).to(device) - logp_diff_t0.view(-1)` is simply the calculation of $\\log p(t_0, z(t_0)) - \\log p(t_0, z(t_0)) + \\log p(t_1, z(t_1)) = \\log p(t_1, z(t_1))$, the log-probability of our learnt distribution.\n",
    "\n",
    "Finally, the loss is simply the negative log-likelihood, as we want to maximise the likelihood of our distribution:\n",
    "$$\n",
    "-\\frac{1}{N} \\sum_{i=1}^N \\log p(t_1, z(t_1)_i)\n",
    "$$\n",
    "for all samples $z(t_1)_i$ in the batch. This is computed as the mean along the batch dimension: `-logp_x.mean(0)`."
   ],
   "metadata": {
    "collapsed": false
   },
   "id": "9adae10b60a35783"
  },
  {
   "cell_type": "markdown",
   "source": [
    "#### Learning curve"
   ],
   "metadata": {
    "collapsed": false
   },
   "id": "51998c487699d0cc"
  },
  {
   "cell_type": "code",
   "execution_count": 10,
   "outputs": [
    {
     "data": {
      "text/plain": "<Figure size 800x500 with 1 Axes>",
      "image/png": "[encoded data removed]"
     },
     "metadata": {},
     "output_type": "display_data"
    }
   ],
   "source": [
    "# Visualise the learning curve\n",
    "loss_meter.plot_history()"
   ],
   "metadata": {
    "collapsed": false,
    "ExecuteTime": {
     "end_time": "2024-01-12T10:55:20.527455Z",
     "start_time": "2024-01-12T10:55:20.368418Z"
    }
   },
   "id": "1916ef32a865012f"
  },
  {
   "cell_type": "markdown",
   "source": [
    "#### Save the model"
   ],
   "metadata": {
    "collapsed": false
   },
   "id": "23b2c48ed49e6c38"
  },
  {
   "cell_type": "code",
   "execution_count": 11,
   "outputs": [],
   "source": [
    "# Save the model\n",
    "if not os.path.exists(args['results_dir']):\n",
    "    os.makedirs(args['results_dir'])\n",
    "torch.save(func.state_dict(), os.path.join(args['results_dir'], 'triangle_cnf.pt'))"
   ],
   "metadata": {
    "collapsed": false,
    "ExecuteTime": {
     "end_time": "2024-01-12T10:55:20.536964Z",
     "start_time": "2024-01-12T10:55:20.530012Z"
    }
   },
   "id": "552e9a4a28f1049b"
  },
  {
   "cell_type": "markdown",
   "source": [
    "### Visualise the results"
   ],
   "metadata": {
    "collapsed": false
   },
   "id": "49a0e028f790debe"
  },
  {
   "cell_type": "code",
   "execution_count": 12,
   "outputs": [
    {
     "data": {
      "text/plain": "<IPython.core.display.HTML object>",
      "text/html": "<img src=\"triangle_results/cnf-viz.gif\" width=\"1000\">"
     },
     "metadata": {},
     "output_type": "display_data"
    }
   ],
   "source": [
    "# load model\n",
    "func.load_state_dict(torch.load(os.path.join(args['results_dir'], 'triangle_cnf.pt')))\n",
    "\n",
    "plotting_cnf.plot_flow(get_batch, 'triangle_results', odeint, func, p_z0, t0, t1, device)"
   ],
   "metadata": {
    "collapsed": false,
    "ExecuteTime": {
     "end_time": "2024-01-12T10:55:40.687032Z",
     "start_time": "2024-01-12T10:55:20.537135Z"
    }
   },
   "id": "5bb7d61cb106271"
  },
  {
   "cell_type": "markdown",
   "source": [
    "## Circles distribution"
   ],
   "metadata": {
    "collapsed": false
   },
   "id": "51ae31ae1e4cc041"
  },
  {
   "cell_type": "code",
   "execution_count": 13,
   "outputs": [],
   "source": [
    "def get_batch(num_samples):\n",
    "    \"\"\"\n",
    "    Generate random points in a two concentric circles distribution.\n",
    "    \"\"\"\n",
    "    points, _ = make_circles(n_samples=num_samples, noise=0.06, factor=0.5)\n",
    "    x = torch.tensor(points).type(torch.float32).to(device)\n",
    "    logp_diff_t1 = torch.zeros(num_samples, 1).type(torch.float32).to(device)\n",
    "    return (x, logp_diff_t1)"
   ],
   "metadata": {
    "collapsed": false,
    "ExecuteTime": {
     "end_time": "2024-01-12T10:55:40.689079Z",
     "start_time": "2024-01-12T10:55:40.685473Z"
    }
   },
   "id": "976226fef5fcd871"
  },
  {
   "cell_type": "markdown",
   "source": [
    "### Train the model"
   ],
   "metadata": {
    "collapsed": false
   },
   "id": "d63bc185d354f79"
  },
  {
   "cell_type": "code",
   "execution_count": 14,
   "outputs": [
    {
     "name": "stdout",
     "output_type": "stream",
     "text": [
      "Number of trainable parameters: 15904\n"
     ]
    }
   ],
   "source": [
    "t0 = 0  # Initial time\n",
    "t1 = 10 # Final time\n",
    "\n",
    "# Definition of the model, optimizer and initial distribution\n",
    "func = CNF(in_out_dim=2, hidden_dim=args['hidden_dim'], width=args['width']).to(device)\n",
    "optimizer = optim.Adam(func.parameters(), lr=args['lr'])\n",
    "# A normal distribution with mean 0 and covariance matrix 0.1 * I\n",
    "p_z0 = torch.distributions.MultivariateNormal(\n",
    "    loc=torch.tensor([0.0, 0.0]).to(device),\n",
    "    covariance_matrix=torch.tensor([[0.1, 0.0], [0.0, 0.1]]).to(device)\n",
    ")\n",
    "print(\"Number of trainable parameters: %d\" % sum(p.numel() for p in func.parameters() if p.requires_grad))"
   ],
   "metadata": {
    "collapsed": false,
    "ExecuteTime": {
     "end_time": "2024-01-12T10:55:40.704929Z",
     "start_time": "2024-01-12T10:55:40.690317Z"
    }
   },
   "id": "dca1aa71e2f1035e"
  },
  {
   "cell_type": "code",
   "execution_count": 15,
   "outputs": [
    {
     "name": "stdout",
     "output_type": "stream",
     "text": [
      "Iter: 100, running avg loss: 2.0850\n",
      "Iter: 200, running avg loss: 1.7422\n",
      "Iter: 300, running avg loss: 1.5669\n",
      "Iter: 400, running avg loss: 1.3709\n",
      "Iter: 500, running avg loss: 1.1409\n",
      "Iter: 600, running avg loss: 0.9958\n",
      "Iter: 700, running avg loss: 0.9175\n",
      "Iter: 800, running avg loss: 0.8805\n",
      "Iter: 900, running avg loss: 0.8682\n",
      "Iter: 1000, running avg loss: 0.8585\n",
      "Iter: 1100, running avg loss: 0.8524\n",
      "Iter: 1200, running avg loss: 0.8508\n",
      "Iter: 1300, running avg loss: 0.8478\n",
      "Iter: 1400, running avg loss: 0.8423\n",
      "Iter: 1500, running avg loss: 0.8432\n",
      "Iter: 1600, running avg loss: 0.8414\n",
      "Iter: 1700, running avg loss: 0.8341\n",
      "Iter: 1800, running avg loss: 0.8388\n",
      "Iter: 1900, running avg loss: 0.8349\n",
      "Iter: 2000, running avg loss: 0.8422\n",
      "Iter: 2100, running avg loss: 0.8332\n",
      "Iter: 2200, running avg loss: 0.8376\n",
      "Iter: 2300, running avg loss: 0.8302\n",
      "Iter: 2400, running avg loss: 0.8270\n",
      "Iter: 2500, running avg loss: 0.8244\n",
      "Iter: 2600, running avg loss: 0.8256\n",
      "Iter: 2700, running avg loss: 0.8252\n",
      "Iter: 2800, running avg loss: 0.8279\n",
      "Iter: 2900, running avg loss: 0.8314\n",
      "Iter: 3000, running avg loss: 0.8273\n",
      "Iter: 3100, running avg loss: 0.8251\n",
      "Iter: 3200, running avg loss: 0.8269\n",
      "Iter: 3300, running avg loss: 0.8260\n",
      "Iter: 3400, running avg loss: 0.8247\n",
      "Iter: 3500, running avg loss: 0.8217\n",
      "Iter: 3600, running avg loss: 0.8189\n",
      "Iter: 3700, running avg loss: 0.8216\n",
      "Iter: 3800, running avg loss: 0.8220\n",
      "Iter: 3900, running avg loss: 0.8172\n",
      "Iter: 4000, running avg loss: 0.8210\n",
      "Iter: 4100, running avg loss: 0.8196\n",
      "Iter: 4200, running avg loss: 0.8160\n",
      "Iter: 4300, running avg loss: 0.8171\n",
      "Iter: 4400, running avg loss: 0.8192\n",
      "Iter: 4500, running avg loss: 0.8162\n",
      "Iter: 4600, running avg loss: 0.8137\n",
      "Iter: 4700, running avg loss: 0.8175\n",
      "Iter: 4800, running avg loss: 0.8194\n",
      "Iter: 4900, running avg loss: 0.8131\n",
      "Iter: 5000, running avg loss: 0.8107\n"
     ]
    }
   ],
   "source": [
    "loss_meter = training.RunningAverageMeter()\n",
    "# Training loop\n",
    "for itr in range(1, args['niters'] + 1):\n",
    "    optimizer.zero_grad()\n",
    "\n",
    "    x, logp_diff_t1 = get_batch(args['num_samples'])  \n",
    "\n",
    "    z_t, logp_diff_t = odeint(\n",
    "        func,\n",
    "        (x.to(device), logp_diff_t1.to(device)),\n",
    "        torch.tensor([t1, t0]).type(torch.float32).to(device),  \n",
    "        atol=1e-5,\n",
    "        rtol=1e-5,\n",
    "        method='dopri5',\n",
    "    )\n",
    "\n",
    "    z_t0, logp_diff_t0 = z_t[-1], logp_diff_t[-1] \n",
    "\n",
    "    logp_x = p_z0.log_prob(z_t0).to(device) - logp_diff_t0.view(-1)\n",
    "    loss = -logp_x.mean(0) \n",
    "    \n",
    "\n",
    "    loss.backward()\n",
    "    optimizer.step()\n",
    "\n",
    "    loss_meter.update(loss.item())\n",
    "    if itr % 100 == 0:\n",
    "        print('Iter: {}, running avg loss: {:.4f}'.format(itr, loss_meter.avg))"
   ],
   "metadata": {
    "collapsed": false,
    "ExecuteTime": {
     "end_time": "2024-01-12T12:55:51.895464Z",
     "start_time": "2024-01-12T10:55:40.707398Z"
    }
   },
   "id": "28266aaa648edbc2"
  },
  {
   "cell_type": "markdown",
   "source": [
    "#### Learning curve"
   ],
   "metadata": {
    "collapsed": false
   },
   "id": "1d3d325e1ebdee3b"
  },
  {
   "cell_type": "code",
   "execution_count": 16,
   "outputs": [
    {
     "data": {
      "text/plain": "<Figure size 800x500 with 1 Axes>",
      "image/png": "[encoded data removed]"
     },
     "metadata": {},
     "output_type": "display_data"
    }
   ],
   "source": [
    "# Visualise the learning curve\n",
    "loss_meter.plot_history()"
   ],
   "metadata": {
    "collapsed": false,
    "ExecuteTime": {
     "end_time": "2024-01-12T12:55:52.028533Z",
     "start_time": "2024-01-12T12:55:51.891276Z"
    }
   },
   "id": "1c50f4c46a0391c6"
  },
  {
   "cell_type": "markdown",
   "source": [
    "#### Save the model"
   ],
   "metadata": {
    "collapsed": false
   },
   "id": "f6246d0b20b726d3"
  },
  {
   "cell_type": "code",
   "execution_count": 17,
   "outputs": [],
   "source": [
    "# Save the model\n",
    "if not os.path.exists(args['results_dir']):\n",
    "    os.makedirs(args['results_dir'])\n",
    "torch.save(func.state_dict(), os.path.join(args['results_dir'], 'circles_cnf.pt'))"
   ],
   "metadata": {
    "collapsed": false,
    "ExecuteTime": {
     "end_time": "2024-01-12T12:55:52.028964Z",
     "start_time": "2024-01-12T12:55:51.973705Z"
    }
   },
   "id": "6a3212f6de2ed2c6"
  },
  {
   "cell_type": "markdown",
   "source": [
    "### Visualise the results"
   ],
   "metadata": {
    "collapsed": false
   },
   "id": "f5b3344c7f20cd4b"
  },
  {
   "cell_type": "code",
   "execution_count": 18,
   "outputs": [
    {
     "data": {
      "text/plain": "<IPython.core.display.HTML object>",
      "text/html": "<img src=\"circles_results/cnf-viz.gif\" width=\"1000\">"
     },
     "metadata": {},
     "output_type": "display_data"
    }
   ],
   "source": [
    "plotting_cnf.plot_flow(get_batch, 'circles_results', odeint, func, p_z0, t0, t1, device)"
   ],
   "metadata": {
    "collapsed": false,
    "ExecuteTime": {
     "end_time": "2024-01-12T12:56:23.395509Z",
     "start_time": "2024-01-12T12:55:51.976055Z"
    }
   },
   "id": "a5874a88ac336d5e"
  },
  {
   "cell_type": "code",
   "execution_count": 18,
   "outputs": [],
   "source": [],
   "metadata": {
    "collapsed": false,
    "ExecuteTime": {
     "end_time": "2024-01-12T12:56:23.398500Z",
     "start_time": "2024-01-12T12:56:23.385497Z"
    }
   },
   "id": "8ac15767b0a494e0"
  },
  {
   "cell_type": "code",
   "execution_count": null,
   "outputs": [],
   "source": [],
   "metadata": {
    "collapsed": false
   },
   "id": "29498400f8455688"
  }
 ],
 "metadata": {
  "kernelspec": {
   "display_name": "Python 3",
   "language": "python",
   "name": "python3"
  },
  "language_info": {
   "codemirror_mode": {
    "name": "ipython",
    "version": 2
   },
   "file_extension": ".py",
   "mimetype": "text/x-python",
   "name": "python",
   "nbconvert_exporter": "python",
   "pygments_lexer": "ipython2",
   "version": "2.7.6"
  }
 },
 "nbformat": 4,
 "nbformat_minor": 5
}
